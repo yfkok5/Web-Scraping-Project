{
 "cells": [
  {
   "cell_type": "code",
   "execution_count": 193,
   "id": "998a4c89",
   "metadata": {},
   "outputs": [],
   "source": [
    "from selenium import webdriver\n",
    "from bs4 import BeautifulSoup\n",
    "import pandas as pd\n",
    "import requests"
   ]
  },
  {
   "cell_type": "code",
   "execution_count": 194,
   "id": "4115776b",
   "metadata": {},
   "outputs": [],
   "source": [
    "url = \"https://www.catch.com.au/shop/sports-outdoor/event/champion-vs-lonsdale-163891/?st=1\"\n"
   ]
  },
  {
   "cell_type": "code",
   "execution_count": 195,
   "id": "ca5ddaf5",
   "metadata": {},
   "outputs": [],
   "source": [
    "# Use the below headers when requesting the url may help you to avoid being blocked from the site\n",
    "HEADERS = {'User-Agent': 'Mozilla/5.0 (Windows NT 10.0; Win64; x64) AppleWebKit/537.36 (KHTML, like Gecko) Chrome/70.0.3538.77 Safari/537.36'}\n",
    "\n",
    "#result = requests.get(url, hea)\n",
    "\n",
    "#doc = BeautifulSoup(result.text,\"html.parser\")"
   ]
  },
  {
   "cell_type": "code",
   "execution_count": 196,
   "id": "20b34d17",
   "metadata": {},
   "outputs": [],
   "source": [
    "# Get the HTML content get_url()\n",
    "def get_url(url):\n",
    "    try:\n",
    "        response = requests.get(url,headers = HEADERS).text\n",
    "        soup = BeautifulSoup(response, 'html.parser')\n",
    "        return soup\n",
    "    except Exception as err:\n",
    "        print('ERROR BY REQUEST:', err)\n",
    "        return None"
   ]
  },
  {
   "cell_type": "code",
   "execution_count": 197,
   "id": "8397227d",
   "metadata": {},
   "outputs": [
    {
     "data": {
      "text/plain": [
       "'<!DOCTYPE html>\\n<html class=\"no-js no-webp\" lang=\"en\">\\n <head>\\n  <link as=\"font\" crossorigin=\"\" href=\"https://s.catch.com.au/static/catch/fonts/biennale_regular.woff2\" rel=\"preload\" type=\"font/woff2\"/>\\n  <link as=\"font\" crossorigin=\"\" href=\"https://s.catch.com.au/static/catch/fonts/biennale_semibold.woff2\" rel=\"preload\" type=\"font/woff2\"/>\\n  <link as=\"font\" crossorigin=\"\" href=\"https://s.catch.com.au/static/catch/fonts/biennale_black.woff2\" rel=\"preload\" type=\"font/woff2\"/>\\n  <script>\\n   var cotd = cotd || {};\\n  </script>\\n  <script crossorigin=\"anonymous\" src=\"https://polyfill.io/v3/polyfill.min.js?features=es6%2CNodeList.prototype.%40%40iterator%2CPromise%2CPromise.prototype.finally%2CglobalThis%2CObject.values%2CObject.entries%2CObject.assign%2ClocalStorage%2CArray.prototype.includes%2CArray.prototype.flatMap%2CArray.prototype.find%2CString.prototype.includes%2CString.prototype.startsWith%2CSymbol.toStringTag%2CNumber.isNaN%2Cfetch%2CElement.prototype.prepend%2Csmoothscroll%2CInterse'"
      ]
     },
     "execution_count": 197,
     "metadata": {},
     "output_type": "execute_result"
    }
   ],
   "source": [
    "get_url(url).prettify()[0:1000]"
   ]
  },
  {
   "cell_type": "code",
   "execution_count": 198,
   "id": "2981540d",
   "metadata": {},
   "outputs": [],
   "source": [
    "soup = get_url(url)\n"
   ]
  },
  {
   "cell_type": "code",
   "execution_count": 333,
   "id": "d29d41b6",
   "metadata": {},
   "outputs": [
    {
     "name": "stdout",
     "output_type": "stream",
     "text": [
      "84\n"
     ]
    }
   ],
   "source": [
    "#Obtaining main data body\n",
    "data_body = products.find_all(\"div\" , {\"class\" : \"product\"})\n",
    "\n",
    "#Check number of items \n",
    "print(len(data_body))"
   ]
  },
  {
   "cell_type": "code",
   "execution_count": 334,
   "id": "8e6a5b0f",
   "metadata": {},
   "outputs": [
    {
     "name": "stdout",
     "output_type": "stream",
     "text": [
      "$33.99\n"
     ]
    }
   ],
   "source": [
    "#extract item pricing\n",
    "price = data_body[0].find(\"div\" , {\"class\": \"price--container onepass\"}).get_text()\n",
    "\n",
    "#.strip() to remove empty spaces\n",
    "print(price.strip())"
   ]
  },
  {
   "cell_type": "code",
   "execution_count": 352,
   "id": "970a7331",
   "metadata": {},
   "outputs": [
    {
     "data": {
      "text/plain": [
       "49.99"
      ]
     },
     "execution_count": 352,
     "metadata": {},
     "output_type": "execute_result"
    }
   ],
   "source": [
    "#test run for items on Sale \"Don't pay XXX Save XXX etc\"\n",
    "testing = data_body[1].find(\"div\" , {\"class\": \"price--main theme\"}).get_text()\n",
    "\n",
    "testing_2 = float(testing.replace('$', ''))\n",
    "\n",
    "testing_2"
   ]
  },
  {
   "cell_type": "code",
   "execution_count": 361,
   "id": "56df4ede",
   "metadata": {},
   "outputs": [
    {
     "data": {
      "text/html": [
       "<div>\n",
       "<style scoped>\n",
       "    .dataframe tbody tr th:only-of-type {\n",
       "        vertical-align: middle;\n",
       "    }\n",
       "\n",
       "    .dataframe tbody tr th {\n",
       "        vertical-align: top;\n",
       "    }\n",
       "\n",
       "    .dataframe thead th {\n",
       "        text-align: right;\n",
       "    }\n",
       "</style>\n",
       "<table border=\"1\" class=\"dataframe\">\n",
       "  <thead>\n",
       "    <tr style=\"text-align: right;\">\n",
       "      <th></th>\n",
       "      <th>Product Name</th>\n",
       "      <th>Brand</th>\n",
       "      <th>Price ($AUD)</th>\n",
       "      <th>Savings!</th>\n",
       "    </tr>\n",
       "  </thead>\n",
       "  <tbody>\n",
       "    <tr>\n",
       "      <th>0</th>\n",
       "      <td>Lonsdale Men's Waterloo Core Hoodie - Charcoal...</td>\n",
       "      <td>Lonsdale</td>\n",
       "      <td>33.99</td>\n",
       "      <td>-</td>\n",
       "    </tr>\n",
       "    <tr>\n",
       "      <th>1</th>\n",
       "      <td>Champion Men's Script Cuff Track Pants - Black</td>\n",
       "      <td>Champion</td>\n",
       "      <td>49.99</td>\n",
       "      <td>$15</td>\n",
       "    </tr>\n",
       "    <tr>\n",
       "      <th>2</th>\n",
       "      <td>Lonsdale Men's Belmont Panelled Hoodie - Navy</td>\n",
       "      <td>Lonsdale</td>\n",
       "      <td>44.99</td>\n",
       "      <td>-</td>\n",
       "    </tr>\n",
       "    <tr>\n",
       "      <th>3</th>\n",
       "      <td>Lonsdale Men's Lawson Core Trackpants / Tracks...</td>\n",
       "      <td>Lonsdale</td>\n",
       "      <td>34.99</td>\n",
       "      <td>-</td>\n",
       "    </tr>\n",
       "    <tr>\n",
       "      <th>4</th>\n",
       "      <td>Champion Men's Script Hoodie - Black</td>\n",
       "      <td>Champion</td>\n",
       "      <td>59.99</td>\n",
       "      <td>-</td>\n",
       "    </tr>\n",
       "    <tr>\n",
       "      <th>...</th>\n",
       "      <td>...</td>\n",
       "      <td>...</td>\n",
       "      <td>...</td>\n",
       "      <td>...</td>\n",
       "    </tr>\n",
       "    <tr>\n",
       "      <th>79</th>\n",
       "      <td>Champion Women's CH Script Tights / Leggings -...</td>\n",
       "      <td>Champion</td>\n",
       "      <td>37.49</td>\n",
       "      <td>-</td>\n",
       "    </tr>\n",
       "    <tr>\n",
       "      <th>80</th>\n",
       "      <td>Champion Women's Script Crop Tee / T-Shirt / T...</td>\n",
       "      <td>Champion</td>\n",
       "      <td>24.99</td>\n",
       "      <td>$10</td>\n",
       "    </tr>\n",
       "    <tr>\n",
       "      <th>81</th>\n",
       "      <td>Champion Women's Jersey High-Waist Shorts - Go...</td>\n",
       "      <td>Champion</td>\n",
       "      <td>29.99</td>\n",
       "      <td>-</td>\n",
       "    </tr>\n",
       "    <tr>\n",
       "      <th>82</th>\n",
       "      <td>Champion Women's Script Logo Cropped Tee / T-S...</td>\n",
       "      <td>Champion</td>\n",
       "      <td>24.00</td>\n",
       "      <td>$10</td>\n",
       "    </tr>\n",
       "    <tr>\n",
       "      <th>83</th>\n",
       "      <td>Champion Women's Short Sleeve Script Tee / T-S...</td>\n",
       "      <td>Champion</td>\n",
       "      <td>24.00</td>\n",
       "      <td>$10</td>\n",
       "    </tr>\n",
       "  </tbody>\n",
       "</table>\n",
       "<p>84 rows × 4 columns</p>\n",
       "</div>"
      ],
      "text/plain": [
       "                                         Product Name     Brand  Price ($AUD)  \\\n",
       "0   Lonsdale Men's Waterloo Core Hoodie - Charcoal...  Lonsdale         33.99   \n",
       "1      Champion Men's Script Cuff Track Pants - Black  Champion         49.99   \n",
       "2       Lonsdale Men's Belmont Panelled Hoodie - Navy  Lonsdale         44.99   \n",
       "3   Lonsdale Men's Lawson Core Trackpants / Tracks...  Lonsdale         34.99   \n",
       "4                Champion Men's Script Hoodie - Black  Champion         59.99   \n",
       "..                                                ...       ...           ...   \n",
       "79  Champion Women's CH Script Tights / Leggings -...  Champion         37.49   \n",
       "80  Champion Women's Script Crop Tee / T-Shirt / T...  Champion         24.99   \n",
       "81  Champion Women's Jersey High-Waist Shorts - Go...  Champion         29.99   \n",
       "82  Champion Women's Script Logo Cropped Tee / T-S...  Champion         24.00   \n",
       "83  Champion Women's Short Sleeve Script Tee / T-S...  Champion         24.00   \n",
       "\n",
       "   Savings!  \n",
       "0         -  \n",
       "1       $15  \n",
       "2         -  \n",
       "3         -  \n",
       "4         -  \n",
       "..      ...  \n",
       "79        -  \n",
       "80      $10  \n",
       "81        -  \n",
       "82      $10  \n",
       "83      $10  \n",
       "\n",
       "[84 rows x 4 columns]"
      ]
     },
     "execution_count": 361,
     "metadata": {},
     "output_type": "execute_result"
    }
   ],
   "source": [
    "#create empty dataframes to be appended on\n",
    "\n",
    "product_name = []\n",
    "product_price = []\n",
    "product_savings = []\n",
    "product_brands = []\n",
    "\n",
    "for item in range(0,len(data_body)):\n",
    "\n",
    "    #Extract Product Names\n",
    "    try:\n",
    "        name = data_body[item].find(\"a\" , {\"class\": \"js-product-link product--title-link js-dnt\"}).get_text()\n",
    "        product_name.append(name)  \n",
    "    \n",
    "    except:\n",
    "        product_name.append('Empty')   \n",
    "    \n",
    "    #Extract Product's Brand\n",
    "    try:\n",
    "        brands = data_body[item].find(\"div\" , {\"class\": \"product--brand\"}).get_text()\n",
    "        product_brands.append(brands)  \n",
    "    \n",
    "    except:\n",
    "        product_brands.append('Not Available')\n",
    "    \n",
    "    #Extract Product's Price\n",
    "    #delete \"$\" and convert price to float (just incase we need to sort them)\n",
    "    try:\n",
    "        price = data_body[item].find(\"div\" , {\"class\": \"price--container onepass\"}).get_text().strip()\n",
    "        price = float(price.replace('$', ''))\n",
    "        product_price.append(price)\n",
    "    \n",
    "    #Code will run into an error if an item is on sale because price will be assigned to \"price--main theme\"\n",
    "    #This code will extract price data from price--main theme instead\n",
    "    except:\n",
    "        price2 = data_body[item].find(\"div\" , {\"class\": \"price--main theme\"}).get_text()\n",
    "        price2 = float(price2.replace('$', ''))\n",
    "        product_price.append(price2)\n",
    "     \n",
    "    #Extract Product's Savings   \n",
    "    try:\n",
    "        savings = data_body[item].find(\"span\" , {\"data-ts\": \"savings-value\"}).get_text()\n",
    "        product_savings.append(savings)\n",
    "        \n",
    "    except:\n",
    "        product_savings.append('-')      \n",
    "\n",
    "d = {'Product Name': product_name, 'Brand': product_brands, 'Price ($AUD)': product_price, \"Savings!\": product_savings}\n",
    "\n",
    "cotd_df = pd.DataFrame(data=d)\n",
    "\n",
    "cotd_df"
   ]
  },
  {
   "cell_type": "code",
   "execution_count": 326,
   "id": "db7719c5",
   "metadata": {},
   "outputs": [],
   "source": [
    "#export to csv\n",
    "from pathlib import Path  \n",
    "filepath = Path('D:\\WebScraping Project\\catch_of_the_day.csv')  \n",
    "filepath.parent.mkdir(parents=True, exist_ok=True)  \n",
    "cotd_df.to_csv(filepath)"
   ]
  },
  {
   "cell_type": "code",
   "execution_count": null,
   "id": "8ec02398",
   "metadata": {},
   "outputs": [],
   "source": []
  },
  {
   "cell_type": "code",
   "execution_count": null,
   "id": "dfc412de",
   "metadata": {},
   "outputs": [],
   "source": []
  }
 ],
 "metadata": {
  "kernelspec": {
   "display_name": "Python 3 (ipykernel)",
   "language": "python",
   "name": "python3"
  },
  "language_info": {
   "codemirror_mode": {
    "name": "ipython",
    "version": 3
   },
   "file_extension": ".py",
   "mimetype": "text/x-python",
   "name": "python",
   "nbconvert_exporter": "python",
   "pygments_lexer": "ipython3",
   "version": "3.7.11"
  }
 },
 "nbformat": 4,
 "nbformat_minor": 5
}
