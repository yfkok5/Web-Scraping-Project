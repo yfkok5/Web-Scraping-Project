{
 "cells": [
  {
   "cell_type": "code",
   "execution_count": 6,
   "id": "caf1debf",
   "metadata": {},
   "outputs": [],
   "source": [
    "from selenium import webdriver\n",
    "from bs4 import BeautifulSoup\n",
    "import pandas as pd\n",
    "import requests\n",
    "from pathlib import Path  "
   ]
  },
  {
   "cell_type": "code",
   "execution_count": 7,
   "id": "9bb4efc1",
   "metadata": {},
   "outputs": [],
   "source": [
    "url = \"https://www.catch.com.au/shop/sports-outdoor/event/champion-vs-lonsdale-163891/?st=1\"\n"
   ]
  },
  {
   "cell_type": "code",
   "execution_count": 8,
   "id": "6b1cf704",
   "metadata": {},
   "outputs": [],
   "source": [
    "# Use the below headers when requesting the url may help you to avoid being blocked from the site\n",
    "HEADERS = {'User-Agent': 'Mozilla/5.0 (Windows NT 10.0; Win64; x64) AppleWebKit/537.36 (KHTML, like Gecko) Chrome/70.0.3538.77 Safari/537.36'}\n",
    "\n",
    "#result = requests.get(url, hea)\n",
    "\n",
    "#doc = BeautifulSoup(result.text,\"html.parser\")\n",
    "#credits to Khuong"
   ]
  },
  {
   "cell_type": "code",
   "execution_count": 9,
   "id": "471fc19f",
   "metadata": {},
   "outputs": [],
   "source": [
    "# Get the HTML content get_url()\n",
    "# credits to Khuong Tran\n",
    "def get_url(url):\n",
    "    try:\n",
    "        response = requests.get(url,headers = HEADERS).text\n",
    "        soup = BeautifulSoup(response, 'html.parser')\n",
    "        return soup\n",
    "    except Exception as err:\n",
    "        print('ERROR BY REQUEST:', err)\n",
    "        return None\n",
    "    "
   ]
  },
  {
   "cell_type": "code",
   "execution_count": 10,
   "id": "06df34df",
   "metadata": {},
   "outputs": [
    {
     "data": {
      "text/plain": [
       "'<!DOCTYPE html>\\n<html class=\"no-js no-webp home-page\" lang=\"en\">\\n <head>\\n  <link as=\"font\" crossorigin=\"\" href=\"https://s.catch.com.au/static/catch/fonts/biennale_regular.woff2\" rel=\"preload\" type=\"font/woff2\"/>\\n  <link as=\"font\" crossorigin=\"\" href=\"https://s.catch.com.au/static/catch/fonts/biennale_semibold.woff2\" rel=\"preload\" type=\"font/woff2\"/>\\n  <link as=\"font\" crossorigin=\"\" href=\"https://s.catch.com.au/static/catch/fonts/biennale_black.woff2\" rel=\"preload\" type=\"font/woff2\"/>\\n  <script>\\n   var cotd = cotd || {};\\n  </script>\\n  <script crossorigin=\"anonymous\" src=\"https://polyfill.io/v3/polyfill.min.js?features=es6%2CNodeList.prototype.%40%40iterator%2CPromise%2CPromise.prototype.finally%2CglobalThis%2CObject.values%2CObject.entries%2CObject.assign%2ClocalStorage%2CArray.prototype.includes%2CArray.prototype.flatMap%2CArray.prototype.find%2CString.prototype.includes%2CString.prototype.startsWith%2CSymbol.toStringTag%2CNumber.isNaN%2Cfetch%2CElement.prototype.prepend%2Csmoothscroll'"
      ]
     },
     "execution_count": 10,
     "metadata": {},
     "output_type": "execute_result"
    }
   ],
   "source": [
    "get_url(url).prettify()[0:1000]"
   ]
  },
  {
   "cell_type": "code",
   "execution_count": 11,
   "id": "3a8d2a56",
   "metadata": {},
   "outputs": [],
   "source": [
    "soup = get_url(url)\n"
   ]
  },
  {
   "cell_type": "code",
   "execution_count": 12,
   "id": "1107dd43",
   "metadata": {},
   "outputs": [
    {
     "name": "stdout",
     "output_type": "stream",
     "text": [
      "0\n"
     ]
    }
   ],
   "source": [
    "#Obtaining main data body\n",
    "data_body = soup.find_all(\"div\" , {\"class\" : \"product\"})\n",
    "\n",
    "#Check number of items \n",
    "print(len(data_body))"
   ]
  },
  {
   "cell_type": "code",
   "execution_count": 13,
   "id": "d5940b88",
   "metadata": {},
   "outputs": [
    {
     "ename": "IndexError",
     "evalue": "list index out of range",
     "output_type": "error",
     "traceback": [
      "\u001b[1;31m---------------------------------------------------------------------------\u001b[0m",
      "\u001b[1;31mIndexError\u001b[0m                                Traceback (most recent call last)",
      "\u001b[1;32m~\\AppData\\Local\\Temp/ipykernel_27540/1117368559.py\u001b[0m in \u001b[0;36m<module>\u001b[1;34m\u001b[0m\n\u001b[0;32m      1\u001b[0m \u001b[1;31m#extract item pricing\u001b[0m\u001b[1;33m\u001b[0m\u001b[1;33m\u001b[0m\u001b[1;33m\u001b[0m\u001b[0m\n\u001b[1;32m----> 2\u001b[1;33m \u001b[0mprice\u001b[0m \u001b[1;33m=\u001b[0m \u001b[0mdata_body\u001b[0m\u001b[1;33m[\u001b[0m\u001b[1;36m0\u001b[0m\u001b[1;33m]\u001b[0m\u001b[1;33m.\u001b[0m\u001b[0mfind\u001b[0m\u001b[1;33m(\u001b[0m\u001b[1;34m\"div\"\u001b[0m \u001b[1;33m,\u001b[0m \u001b[1;33m{\u001b[0m\u001b[1;34m\"class\"\u001b[0m\u001b[1;33m:\u001b[0m \u001b[1;34m\"price--container onepass\"\u001b[0m\u001b[1;33m}\u001b[0m\u001b[1;33m)\u001b[0m\u001b[1;33m.\u001b[0m\u001b[0mget_text\u001b[0m\u001b[1;33m(\u001b[0m\u001b[1;33m)\u001b[0m\u001b[1;33m\u001b[0m\u001b[1;33m\u001b[0m\u001b[0m\n\u001b[0m\u001b[0;32m      3\u001b[0m \u001b[1;33m\u001b[0m\u001b[0m\n\u001b[0;32m      4\u001b[0m \u001b[1;31m#.strip() to remove empty spaces\u001b[0m\u001b[1;33m\u001b[0m\u001b[1;33m\u001b[0m\u001b[1;33m\u001b[0m\u001b[0m\n\u001b[0;32m      5\u001b[0m \u001b[0mprint\u001b[0m\u001b[1;33m(\u001b[0m\u001b[0mprice\u001b[0m\u001b[1;33m.\u001b[0m\u001b[0mstrip\u001b[0m\u001b[1;33m(\u001b[0m\u001b[1;33m)\u001b[0m\u001b[1;33m)\u001b[0m\u001b[1;33m\u001b[0m\u001b[1;33m\u001b[0m\u001b[0m\n",
      "\u001b[1;31mIndexError\u001b[0m: list index out of range"
     ]
    }
   ],
   "source": [
    "#extract item pricing\n",
    "price = data_body[0].find(\"div\" , {\"class\": \"price--container onepass\"}).get_text()\n",
    "\n",
    "#.strip() to remove empty spaces\n",
    "print(price.strip())"
   ]
  },
  {
   "cell_type": "code",
   "execution_count": null,
   "id": "d40a42ae",
   "metadata": {},
   "outputs": [],
   "source": [
    "#test run for items on Sale \"Don't pay XXX Save XXX etc\"\n",
    "testing = data_body[1].find(\"div\" , {\"class\": \"price--main theme\"}).get_text()\n",
    "\n",
    "testing_2 = float(testing.replace('$', ''))\n",
    "\n",
    "testing_2"
   ]
  },
  {
   "cell_type": "code",
   "execution_count": null,
   "id": "0c5d5fbd",
   "metadata": {},
   "outputs": [],
   "source": [
    "#create empty dataframes to be appended on\n",
    "\n",
    "product_name = []\n",
    "product_price = []\n",
    "product_savings = []\n",
    "product_brands = []\n",
    "\n",
    "for item in range(0,len(data_body)):\n",
    "\n",
    "    #Extract Product Names\n",
    "    try:\n",
    "        name = data_body[item].find(\"a\" , {\"class\": \"js-product-link product--title-link js-dnt\"}).get_text()\n",
    "        product_name.append(name)  \n",
    "    \n",
    "    except:\n",
    "        product_name.append('Empty')   \n",
    "    \n",
    "    #Extract Product's Brand\n",
    "    try:\n",
    "        brands = data_body[item].find(\"div\" , {\"class\": \"product--brand\"}).get_text()\n",
    "        product_brands.append(brands)  \n",
    "    \n",
    "    except:\n",
    "        product_brands.append('Not Available')\n",
    "    \n",
    "    #Extract Product's Price\n",
    "    #delete \"$\" and convert price to float (just incase we need to sort them)\n",
    "    try:\n",
    "        price = data_body[item].find(\"div\" , {\"class\": \"price--container onepass\"}).get_text().strip()\n",
    "        price = float(price.replace('$', ''))\n",
    "        product_price.append(price)\n",
    "    \n",
    "    #Code will run into an error if an item is on sale because price will be assigned to \"price--main theme\"\n",
    "    #This code will extract price data from price--main theme instead\n",
    "    except:\n",
    "        price2 = data_body[item].find(\"div\" , {\"class\": \"price--main theme\"}).get_text()\n",
    "        price2 = float(price2.replace('$', ''))\n",
    "        product_price.append(price2)\n",
    "     \n",
    "    #Extract Product's Savings   \n",
    "    try:\n",
    "        savings = data_body[item].find(\"span\" , {\"data-ts\": \"savings-value\"}).get_text()\n",
    "        product_savings.append(savings)\n",
    "        \n",
    "    except:\n",
    "        product_savings.append('-')      \n",
    "\n",
    "d = {'Product Name': product_name, 'Brand': product_brands, 'Price ($AUD)': product_price, \"Savings!\": product_savings}\n",
    "\n",
    "cotd_df = pd.DataFrame(data=d)\n",
    "\n",
    "cotd_df"
   ]
  },
  {
   "cell_type": "code",
   "execution_count": null,
   "id": "6db57b45",
   "metadata": {},
   "outputs": [],
   "source": [
    "#export to csv\n",
    "filepath = Path('..\\Web-Scraping-Project\\catch_of_the_day.csv')  \n",
    "filepath.parent.mkdir(parents=True, exist_ok=True)  \n",
    "cotd_df.to_csv(filepath)"
   ]
  },
  {
   "cell_type": "code",
   "execution_count": null,
   "id": "5c78a8a9",
   "metadata": {},
   "outputs": [],
   "source": []
  },
  {
   "cell_type": "code",
   "execution_count": null,
   "id": "93f8deb9",
   "metadata": {},
   "outputs": [],
   "source": []
  }
 ],
 "metadata": {
  "kernelspec": {
   "display_name": "Python 3 (ipykernel)",
   "language": "python",
   "name": "python3"
  },
  "language_info": {
   "codemirror_mode": {
    "name": "ipython",
    "version": 3
   },
   "file_extension": ".py",
   "mimetype": "text/x-python",
   "name": "python",
   "nbconvert_exporter": "python",
   "pygments_lexer": "ipython3",
   "version": "3.7.11"
  }
 },
 "nbformat": 4,
 "nbformat_minor": 5
}
